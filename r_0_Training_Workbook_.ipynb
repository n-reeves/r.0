{
  "cells": [
    {
      "cell_type": "markdown",
      "metadata": {
        "id": "view-in-github",
        "colab_type": "text"
      },
      "source": [
        "<a href=\"https://colab.research.google.com/github/n-reeves/r.0/blob/main/r_0_Training_Workbook_.ipynb\" target=\"_parent\"><img src=\"https://colab.research.google.com/assets/colab-badge.svg\" alt=\"Open In Colab\"/></a>"
      ]
    },
    {
      "cell_type": "markdown",
      "source": [
        "# Introduction"
      ],
      "metadata": {
        "id": "wAah1psoSMeL"
      }
    },
    {
      "cell_type": "markdown",
      "source": [
        "**Note: This workbook is intended to function using a google colab Pro+ account. Using lower tiers can result in frequent timeouts and GPUs that are ill equipped to train new models**\n",
        "\n"
      ],
      "metadata": {
        "id": "5pqZI0xiQe1e"
      }
    },
    {
      "cell_type": "markdown",
      "source": [
        "The models the Jukebox team have trained and provided available were trained on 1.2 millions songs using 512 V-100 GPUs over 1 month. Colab Pro+ only provides one GPU and runtimes can frequently time out at around ~24 hours. Training is split into 3-4 sections so I've found the maximum time I can train a model succesfully is ~72 hours. "
      ],
      "metadata": {
        "id": "NzU7gYFVSYeH"
      }
    },
    {
      "cell_type": "markdown",
      "source": [
        "Prior to paying for a subscription I reccomend researching the OpenAI Jukebox project and understanding the limitations that come with using google Colab. \n",
        "\n",
        "[OpenAI project website](https://openai.com/blog/jukebox/)\n",
        "\n",
        "[White paper](https://arxiv.org/abs/2005.00341)"
      ],
      "metadata": {
        "id": "XMNd6xH1SUU8"
      }
    },
    {
      "cell_type": "markdown",
      "metadata": {
        "id": "PP1uyaQVMT3b"
      },
      "source": [
        "# General Set Up"
      ]
    },
    {
      "cell_type": "markdown",
      "metadata": {
        "id": "gsVhpL_4jO75"
      },
      "source": [
        "Run the code below to confirm that your runtime is leveraging a GPU."
      ]
    },
    {
      "cell_type": "code",
      "execution_count": null,
      "metadata": {
        "id": "k6ZHL6Nc_Ztw"
      },
      "outputs": [],
      "source": [
        "!nvidia-smi"
      ]
    },
    {
      "cell_type": "markdown",
      "source": [
        "Clone the jukebox repo and install all dependant packages."
      ],
      "metadata": {
        "id": "B9dQGO_OTYgO"
      }
    },
    {
      "cell_type": "code",
      "execution_count": null,
      "metadata": {
        "colab": {
          "base_uri": "https://localhost:8080/"
        },
        "id": "k2xNUYfHv0m6",
        "outputId": "0840e6bf-c5e0-4459-9344-7e5d112e1c49"
      },
      "outputs": [
        {
          "output_type": "stream",
          "name": "stdout",
          "text": [
            "Cloning into 'jukebox'...\n",
            "remote: Enumerating objects: 932, done.\u001b[K\n",
            "remote: Total 932 (delta 0), reused 0 (delta 0), pack-reused 932\u001b[K\n",
            "Receiving objects: 100% (932/932), 2.75 MiB | 2.54 MiB/s, done.\n",
            "Resolving deltas: 100% (456/456), done.\n"
          ]
        }
      ],
      "source": [
        "!git clone https://github.com/openai/jukebox.git\n",
        "#!pip install git+https://github.com/openai/jukebox.git"
      ]
    },
    {
      "cell_type": "code",
      "execution_count": null,
      "metadata": {
        "id": "jEYZInhVwy3K",
        "colab": {
          "base_uri": "https://localhost:8080/"
        },
        "outputId": "f9d38121-6cfc-460a-bc50-c85232a42ff3"
      },
      "outputs": [
        {
          "output_type": "stream",
          "name": "stdout",
          "text": [
            "Looking in indexes: https://pypi.org/simple, https://us-python.pkg.dev/colab-wheels/public/simple/\n",
            "Collecting fire\n",
            "  Downloading fire-0.4.0.tar.gz (87 kB)\n",
            "\u001b[K     |████████████████████████████████| 87 kB 3.8 MB/s \n",
            "\u001b[?25hRequirement already satisfied: six in /usr/local/lib/python3.7/dist-packages (from fire) (1.15.0)\n",
            "Requirement already satisfied: termcolor in /usr/local/lib/python3.7/dist-packages (from fire) (1.1.0)\n",
            "Building wheels for collected packages: fire\n",
            "  Building wheel for fire (setup.py) ... \u001b[?25l\u001b[?25hdone\n",
            "  Created wheel for fire: filename=fire-0.4.0-py2.py3-none-any.whl size=115942 sha256=8e6e02f2d815359e4ba5ec2c6eb3b1b50ec953b7ee152c25321d1153b917474d\n",
            "  Stored in directory: /root/.cache/pip/wheels/8a/67/fb/2e8a12fa16661b9d5af1f654bd199366799740a85c64981226\n",
            "Successfully built fire\n",
            "Installing collected packages: fire\n",
            "Successfully installed fire-0.4.0\n",
            "Looking in indexes: https://pypi.org/simple, https://us-python.pkg.dev/colab-wheels/public/simple/\n",
            "Collecting mpi4py\n",
            "  Downloading mpi4py-3.1.3.tar.gz (2.5 MB)\n",
            "\u001b[K     |████████████████████████████████| 2.5 MB 13.4 MB/s \n",
            "\u001b[?25h  Installing build dependencies ... \u001b[?25l\u001b[?25hdone\n",
            "  Getting requirements to build wheel ... \u001b[?25l\u001b[?25hdone\n",
            "    Preparing wheel metadata ... \u001b[?25l\u001b[?25hdone\n",
            "Building wheels for collected packages: mpi4py\n",
            "  Building wheel for mpi4py (PEP 517) ... \u001b[?25l\u001b[?25hdone\n",
            "  Created wheel for mpi4py: filename=mpi4py-3.1.3-cp37-cp37m-linux_x86_64.whl size=2185254 sha256=9410d357af416d04f35d4f1d242d302d5a71127aac245421ec70e77f3a4e4be6\n",
            "  Stored in directory: /root/.cache/pip/wheels/7a/07/14/6a0c63fa2c6e473c6edc40985b7d89f05c61ff25ee7f0ad9ac\n",
            "Successfully built mpi4py\n",
            "Installing collected packages: mpi4py\n",
            "Successfully installed mpi4py-3.1.3\n",
            "Looking in indexes: https://pypi.org/simple, https://us-python.pkg.dev/colab-wheels/public/simple/\n",
            "Collecting unidecode\n",
            "  Downloading Unidecode-1.3.4-py3-none-any.whl (235 kB)\n",
            "\u001b[K     |████████████████████████████████| 235 kB 12.2 MB/s \n",
            "\u001b[?25hInstalling collected packages: unidecode\n",
            "Successfully installed unidecode-1.3.4\n",
            "Looking in indexes: https://pypi.org/simple, https://us-python.pkg.dev/colab-wheels/public/simple/\n",
            "Collecting av==9.0.2\n",
            "  Downloading av-9.0.2-cp37-cp37m-manylinux_2_17_x86_64.manylinux2014_x86_64.whl (36.7 MB)\n",
            "\u001b[K     |████████████████████████████████| 36.7 MB 1.3 MB/s \n",
            "\u001b[?25hInstalling collected packages: av\n",
            "Successfully installed av-9.0.2\n",
            "Looking in indexes: https://pypi.org/simple, https://us-python.pkg.dev/colab-wheels/public/simple/\n",
            "Collecting tensorboardX\n",
            "  Downloading tensorboardX-2.5.1-py2.py3-none-any.whl (125 kB)\n",
            "\u001b[K     |████████████████████████████████| 125 kB 11.9 MB/s \n",
            "\u001b[?25hRequirement already satisfied: numpy in /usr/local/lib/python3.7/dist-packages (from tensorboardX) (1.21.6)\n",
            "Requirement already satisfied: protobuf<=3.20.1,>=3.8.0 in /usr/local/lib/python3.7/dist-packages (from tensorboardX) (3.17.3)\n",
            "Requirement already satisfied: six>=1.9 in /usr/local/lib/python3.7/dist-packages (from protobuf<=3.20.1,>=3.8.0->tensorboardX) (1.15.0)\n",
            "Installing collected packages: tensorboardX\n",
            "Successfully installed tensorboardX-2.5.1\n"
          ]
        }
      ],
      "source": [
        "!pip install fire\n",
        "!pip install mpi4py\n",
        "!pip install unidecode\n",
        "!pip install av==9.0.2\n",
        "!pip install tensorboardX"
      ]
    },
    {
      "cell_type": "markdown",
      "source": [
        "Upload your training set to a directory in google drive, adjust the directory name, and mount your drive in the colab session before running the line below. The r.0 model was trained only on WAV files and I've yet to test other file formats. Its possible you will run into errors otherwise.\n",
        "\n",
        "**Note: Some unicode characters in the ID3 tags can provide errors when training the model. Edit the tags to only include UTF-8 characters.**"
      ],
      "metadata": {
        "id": "cr_nuWbBTd6w"
      }
    },
    {
      "cell_type": "code",
      "execution_count": null,
      "metadata": {
        "id": "8c7OA4WF1906"
      },
      "outputs": [],
      "source": [
        "!cp -r /content/drive/MyDrive/YOURDATASETFOLDER /content/jukebox"
      ]
    },
    {
      "cell_type": "markdown",
      "source": [
        "Copy train.py and sample.py to the parent directory for ease of use"
      ],
      "metadata": {
        "id": "HSnIuVggTvbT"
      }
    },
    {
      "cell_type": "code",
      "execution_count": null,
      "metadata": {
        "id": "lumCsGgV6PEN"
      },
      "outputs": [],
      "source": [
        "!cp -r /content/jukebox/jukebox/train.py /content/jukebox/train.py"
      ]
    },
    {
      "cell_type": "code",
      "execution_count": null,
      "metadata": {
        "id": "73M9bzXEIncW"
      },
      "outputs": [],
      "source": [
        "!cp -r /content/jukebox/jukebox/sample.py /content/jukebox/sample.py"
      ]
    },
    {
      "cell_type": "markdown",
      "source": [
        "**If you have already trained checkpoints for the VQ-VAE, prior, or upsampler run the line of code below**"
      ],
      "metadata": {
        "id": "7UOIRXUhVmco"
      }
    },
    {
      "cell_type": "code",
      "execution_count": null,
      "metadata": {
        "id": "hGKsmfT3Syu9",
        "colab": {
          "base_uri": "https://localhost:8080/"
        },
        "outputId": "78c19ece-3dc0-420c-f36b-63fd0607126e"
      },
      "outputs": [
        {
          "output_type": "stream",
          "name": "stdout",
          "text": [
            "cp: cannot stat '/content/drive/MyDrive/logs': No such file or directory\n"
          ]
        }
      ],
      "source": [
        "!cp -r /content/drive/MyDrive/YOURCHECKPOINTFOLDER /content/jukebox"
      ]
    },
    {
      "cell_type": "markdown",
      "source": [
        "Navigate to the jukebox directory prior to training"
      ],
      "metadata": {
        "id": "OfCrIidiWXen"
      }
    },
    {
      "cell_type": "code",
      "execution_count": null,
      "metadata": {
        "colab": {
          "base_uri": "https://localhost:8080/"
        },
        "id": "SN0jFM0awzB9",
        "outputId": "21996819-7944-4aef-a62d-53af36c4b9a7"
      },
      "outputs": [
        {
          "output_type": "stream",
          "name": "stdout",
          "text": [
            "/content/jukebox\n"
          ]
        }
      ],
      "source": [
        "%cd jukebox"
      ]
    },
    {
      "cell_type": "markdown",
      "source": [
        "# Training Setup"
      ],
      "metadata": {
        "id": "-NXguP85YHUQ"
      }
    },
    {
      "cell_type": "markdown",
      "source": [
        "**If the runtime disconnects you will need to repeat this section after reconnecting**"
      ],
      "metadata": {
        "id": "GF6l97m9YMyC"
      }
    },
    {
      "cell_type": "markdown",
      "source": [
        "**There is a minor bug jukebox/jukebox/utils/io.py that throws an error when converting samples to a np array.**\n",
        "\n",
        "Edit line 48 shown in the image below to read `frame = frame[0].to_ndarray(format='fltp') `\n",
        "\n",
        "![JB 1.png](data:image/png;base64,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)\n",
        "\n"
      ],
      "metadata": {
        "id": "YU8U9XFcWgwp"
      }
    },
    {
      "cell_type": "markdown",
      "metadata": {
        "id": "WmKmr88vMlrQ"
      },
      "source": [
        "# Train VQVAE"
      ]
    },
    {
      "cell_type": "markdown",
      "source": [
        "We can now begin training our VQVAE. In this case I am training a small VQVAE without labels. "
      ],
      "metadata": {
        "id": "GC17tQBfYZjF"
      }
    },
    {
      "cell_type": "code",
      "execution_count": null,
      "metadata": {
        "id": "AOJsRwEA2T4P"
      },
      "outputs": [],
      "source": [
        "!python train.py --hps=small_vqvae --name=small_vqvae --sample_length=262144 --bs=4 --audio_files_dir=YOURDATASETFOLDER --labels=False --train --aug_shift --aug_blend"
      ]
    },
    {
      "cell_type": "markdown",
      "source": [
        "As mentioned google colab has a habit of disconnecting at around 24 hours in my experience. I reccomend halting training around that point and copying the most recent checkpoint to a folder in your google drive"
      ],
      "metadata": {
        "id": "0rssKh9qY_Hn"
      }
    },
    {
      "cell_type": "code",
      "execution_count": null,
      "metadata": {
        "id": "G2LNY39_hHU5",
        "colab": {
          "base_uri": "https://localhost:8080/"
        },
        "outputId": "77835993-e9f6-470e-86fa-0c46c0ae5ac1"
      },
      "outputs": [
        {
          "output_type": "stream",
          "name": "stdout",
          "text": [
            "cp: cannot stat '/content/jukebox/logs/small_vqvae': No such file or directory\n"
          ]
        }
      ],
      "source": [
        "!cp -r /content/jukebox/logs/small_vqvae /content/drive/MyDrive/YOURCHECKPOINTFOLDER"
      ]
    },
    {
      "cell_type": "markdown",
      "metadata": {
        "id": "65Qk4zsJMtz3"
      },
      "source": [
        "# Train Prior"
      ]
    },
    {
      "cell_type": "markdown",
      "metadata": {
        "id": "zwj9R6qAbTiV"
      },
      "source": [
        "Now we can begin training our prior. Again, I recomend pausing training at around ~24 hours\n",
        "\n"
      ]
    },
    {
      "cell_type": "code",
      "execution_count": null,
      "metadata": {
        "id": "Iv-kh8mRbTNn"
      },
      "outputs": [],
      "source": [
        "!python train.py --hps=small_vqvae,small_prior,all_fp16,cpu_ema --name=small_prior --sample_length=2097152 --bs=4 --audio_files_dir=YOURDATASETFOLDER --labels=False --train --test --aug_shift --aug_blend --restore_vqvae=YOURCHECKPOINTFOLDER/small_vqvae/checkpoint_step_xxxx.pth.tar --prior --levels=2 --level=1 --weight_decay=0.01 --save_iters=1000"
      ]
    },
    {
      "cell_type": "markdown",
      "source": [
        "Run the line below to copy the most recent checkpoint to drive"
      ],
      "metadata": {
        "id": "iwGmJszBfE0J"
      }
    },
    {
      "cell_type": "code",
      "source": [
        "!cp -r /content/jukebox/logs/small_prior /content/drive/MyDrive/YOURCHECKPOINTFOLDER"
      ],
      "metadata": {
        "id": "pmIutQeMfFag"
      },
      "execution_count": null,
      "outputs": []
    },
    {
      "cell_type": "markdown",
      "metadata": {
        "id": "bs0RbvyPMmkm"
      },
      "source": [
        "# Train Upsamplers"
      ]
    },
    {
      "cell_type": "code",
      "execution_count": null,
      "metadata": {
        "id": "HDMKDxe-Mqgc"
      },
      "outputs": [],
      "source": [
        "!python train.py --hps=small_vqvae,small_upsampler,all_fp16,cpu_ema --name=small_upsampler --sample_length=262144 --bs=4 --audio_files_dir=WAV --labels=False --train --test --aug_shift --aug_blend --restore_vqvae=logs/small_vqvae/checkpoint_step_60001.pth.tar --prior --levels=2 --level=0 --weight_decay=0.01 --save_iters=1000"
      ]
    },
    {
      "cell_type": "code",
      "execution_count": null,
      "metadata": {
        "id": "NWYfeK4oEavL"
      },
      "outputs": [],
      "source": [
        "!cp -r /content/jukebox/logs/small_upsampler /content/drive/MyDrive/YOURCHECKPOINTFOLDER"
      ]
    },
    {
      "cell_type": "markdown",
      "metadata": {
        "id": "gd4Gr9gDG3tt"
      },
      "source": [
        "# Set Up Sampling\n"
      ]
    },
    {
      "cell_type": "markdown",
      "source": [
        "Some adjustments to the code are required to sample from the model. "
      ],
      "metadata": {
        "id": "bW6f_HE5fULB"
      }
    },
    {
      "cell_type": "markdown",
      "source": [
        "**Change 1**\n",
        "\n",
        "In jukebox/jukebox/make_models.py add `'my_model_1': (\"my_small_vqvae_1\", \"my_small_upsampler_1\", \"my_small_prior_1\")`\n",
        "\n",
        "on line 21 in the image below\n",
        "\n",
        "![JB 2.png](data:image/png;base64,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)"
      ],
      "metadata": {
        "id": "JW0PhKlff52H"
      }
    },
    {
      "cell_type": "markdown",
      "source": [
        "**Change 2**\n",
        "\n",
        "In jukebox/jukebox/hparams.py add the following code. I generally choose to add it at the end of the script to maintain cleanliness.\n",
        "\n",
        "```\n",
        "my_small_vqvae_1 = Hyperparams( restore_vqvae='logs/small_vqvae/checkpoint_step_60001.pth.tar', )\n",
        "\n",
        "my_small_vqvae_1.update(small_vqvae)\n",
        "\n",
        "HPARAMS_REGISTRY[\"my_small_vqvae_1\"] = my_small_vqvae_1\n",
        "\n",
        "my_small_prior_1 = Hyperparams( \n",
        "  restore_prior='logs/small_prior/checkpoint_latest.pth.tar', \n",
        "  level=1, \n",
        "  labels=False,\n",
        "  alignment_layer=47,\n",
        "  alignment_head=0,\n",
        ")\n",
        "\n",
        "my_small_prior_1.update(small_prior)\n",
        "\n",
        "HPARAMS_REGISTRY[\"my_small_prior_1\"] = my_small_prior_1\n",
        "\n",
        "\n",
        "my_small_upsampler_1 = Hyperparams(\n",
        "    restore_prior='logs/small_upsampler/checkpoint_latest.pth.tar',\n",
        "    level=0,\n",
        "    labels=False,\n",
        ")\n",
        "my_small_upsampler_1.update(small_upsampler)\n",
        "HPARAMS_REGISTRY[\"my_small_upsampler_1\"] = my_small_upsampler_1\n",
        "```\n",
        "\n",
        "\n",
        "\n",
        "\n",
        "\n",
        "\n"
      ],
      "metadata": {
        "id": "prnDYHbXi3Ti"
      }
    },
    {
      "cell_type": "markdown",
      "source": [
        "# Sample from Model"
      ],
      "metadata": {
        "id": "08nbGsgwjieh"
      }
    },
    {
      "cell_type": "markdown",
      "source": [
        "You can adjust the parameters in the line of code below to change the number and length of the samples generated"
      ],
      "metadata": {
        "id": "ml8PiCt-kBFK"
      }
    },
    {
      "cell_type": "code",
      "execution_count": null,
      "metadata": {
        "id": "nxb78-akpZBg"
      },
      "outputs": [],
      "source": [
        "!python sample.py --model=my_model_1 --name=my_model_1 --levels=2 --sample_length_in_seconds=120 --total_sample_length_in_seconds=180 --sr=44100 --n_samples=15 --hop_fraction=0.5,0.5,0.125"
      ]
    },
    {
      "cell_type": "code",
      "execution_count": null,
      "metadata": {
        "id": "KuAb7NTlBxwH"
      },
      "outputs": [],
      "source": [
        "!cp -r /content/jukebox/my_model_1 /content/drive/MyDrive/YOUROUTPUTDIRECTORY"
      ]
    }
  ],
  "metadata": {
    "accelerator": "GPU",
    "colab": {
      "collapsed_sections": [
        "PP1uyaQVMT3b",
        "-NXguP85YHUQ",
        "WmKmr88vMlrQ",
        "65Qk4zsJMtz3",
        "bs0RbvyPMmkm",
        "gd4Gr9gDG3tt",
        "08nbGsgwjieh"
      ],
      "machine_shape": "hm",
      "provenance": [],
      "toc_visible": true,
      "mount_file_id": "1CS43svQGBcRZupRL9AZUVHmxFizsVsrS",
      "authorship_tag": "ABX9TyMX7wetArG/afkBlUBeFBMI",
      "include_colab_link": true
    },
    "gpuClass": "standard",
    "kernelspec": {
      "display_name": "Python 3",
      "name": "python3"
    },
    "language_info": {
      "name": "python"
    }
  },
  "nbformat": 4,
  "nbformat_minor": 0
}